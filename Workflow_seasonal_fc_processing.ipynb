{
 "cells": [
  {
   "cell_type": "markdown",
   "metadata": {},
   "source": [
    "# Workflow - WFP use-case - Integrating seasonal forecast data"
   ]
  },
  {
   "cell_type": "markdown",
   "metadata": {},
   "source": [
    "## TO DO\n",
    "* Bias-correct seasonal forecast data: currently, only the raw input data is visualized - Data has to be bias-corrected based on hindcast data before\n",
    "* Consider visualising SPI for drought prediction, rather than Seasonal forecast anomalies"
   ]
  },
  {
   "cell_type": "markdown",
   "metadata": {},
   "source": [
    "## Workflow overview\n",
    "\n",
    "- [1. Open datasets with xarray library](#open_dataset)\n",
    "    - ERA-interim total precipitation monthly means of daily accumulations\n",
    "    - Seasonal forecast monthly means of total precipitation accumulation rate\n",
    "    - Seasonal forecast monthly means total precipitation accumulation anomalies\n",
    "    - Shapefile containing country or watershed geometries\n",
    "    \n",
    "    \n",
    "- [2. Map the shapefile onto the xarray data objects (rasterize function)](#rasterize)\n",
    "    - Execute the rasterize function on all loaded raster objects\n",
    "\n",
    "\n",
    "- [3. Compute the climatologies and calculate ERA-interim anomalies](#anomalies)\n",
    "    - calculate 1981-2010 climatology from ERAinterim data\n",
    "    - calculate anomalies based on the climatology\n",
    " \n",
    " \n",
    "- [4. Compute the mean per country](#country_mean)\n",
    "    - Retrieve the mean value of all pixels per country, by using the xarray groupby function\n",
    "    \n",
    "\n",
    "- [5. Create a dataframe object that contains all the countries represented by the final data objects](#dataframe)\n",
    "\n",
    "\n",
    "- [6. Visualize ERA-interim anomalies from 1979-2018](#eraint_vis)\n",
    "\n",
    "\n",
    "- [7. Visualize ERA-interim anomlaies from 2018 together with seasonal forecast anomalies](#seaonsal_vis) <br>(all visualizations are based on Python's interactive visualization library Bokeh)\n",
    "    - Seasonal forecast anomalies are shown as the spread of all 51 ensemble members, the mean of all ensembles members, as well as the 25th- and 95th-percentile\n",
    "\n"
   ]
  },
  {
   "cell_type": "markdown",
   "metadata": {},
   "source": [
    "<hr>"
   ]
  },
  {
   "cell_type": "markdown",
   "metadata": {},
   "source": [
    "## Results - Examples from Mozambique"
   ]
  },
  {
   "cell_type": "markdown",
   "metadata": {},
   "source": [
    "<img src=\"./img/bokeh_seasonal_forecast.png\" width=\"45%\" align='left'></img><img src=\"./img/bokeh_eraint_anomalies.png\" width=\"50%\" align='right'></img>"
   ]
  },
  {
   "cell_type": "markdown",
   "metadata": {},
   "source": [
    "<hr>"
   ]
  },
  {
   "cell_type": "markdown",
   "metadata": {},
   "source": [
    "#### Load required libraries"
   ]
  },
  {
   "cell_type": "code",
   "execution_count": null,
   "metadata": {},
   "outputs": [],
   "source": [
    "# allow Jupyter notebooks to access external connection withou HTTPS\n",
    "import os, ssl\n",
    "if (not os.environ.get('PYTHONHTTPSVERIFY', '') and\n",
    "    getattr(ssl, '_create_unverified_context', None)): \n",
    "    ssl._create_default_https_context = ssl._create_unverified_context"
   ]
  },
  {
   "cell_type": "code",
   "execution_count": null,
   "metadata": {},
   "outputs": [],
   "source": [
    "import glob\n",
    "import os\n",
    "import numpy as np\n",
    "import xarray as xr\n",
    "import geopandas as gpd\n",
    "import rasterio\n",
    "import pandas as pd"
   ]
  },
  {
   "cell_type": "code",
   "execution_count": null,
   "metadata": {},
   "outputs": [],
   "source": [
    "from bokeh.plotting import figure, show\n",
    "from bokeh.io import output_notebook\n",
    "from bokeh.layouts import widgetbox\n",
    "from bokeh.models.widgets import Dropdown\n",
    "from bokeh.models import Legend\n",
    "output_notebook()"
   ]
  },
  {
   "cell_type": "code",
   "execution_count": null,
   "metadata": {},
   "outputs": [],
   "source": [
    "import ipywidgets as widgets\n",
    "from ipywidgets import interact, interactive, fixed, interact_manual"
   ]
  },
  {
   "cell_type": "markdown",
   "metadata": {},
   "source": [
    "### 1. Open datasets with xarray library"
   ]
  },
  {
   "cell_type": "markdown",
   "metadata": {},
   "source": [
    "#### Open seasonal forecast data (netCDF format) with xarray"
   ]
  },
  {
   "cell_type": "code",
   "execution_count": null,
   "metadata": {},
   "outputs": [],
   "source": [
    "# From a NetCDF file, data is read as a xarray Dataset, xarray's multi-dimensional equivalent of a DataFrame.\n",
    "tp_seasonal_ar = xr.open_dataset('201809_tp_c3s_seasonal_mm.nc')\n",
    "\n",
    "# convert Total precipitation rate from m / s to mm / day\n",
    "tp_seasonal_ar_mm = xr_dataset * 86400000 "
   ]
  },
  {
   "cell_type": "code",
   "execution_count": null,
   "metadata": {},
   "outputs": [],
   "source": [
    "tp_seasonal_ar = xr_dataset_mm.to_array()"
   ]
  },
  {
   "cell_type": "markdown",
   "metadata": {},
   "source": [
    "#### Open seasonal anomalies (netCDF format) with xarray"
   ]
  },
  {
   "cell_type": "code",
   "execution_count": null,
   "metadata": {},
   "outputs": [],
   "source": [
    "xr_dataset = xr.open_dataset('./201809_tp_c3s_seasonal_mma.nc')\n",
    "tp_seasonal_anomalies_mm = xr_dataset * 86400000 # convert Total precipitation rate from m / s to mm / day"
   ]
  },
  {
   "cell_type": "markdown",
   "metadata": {},
   "source": [
    "#### Open ERA-interim data (netCDF format) with xarray and concatenate the files"
   ]
  },
  {
   "cell_type": "code",
   "execution_count": null,
   "metadata": {},
   "outputs": [],
   "source": [
    "fileList = glob.glob('./eraint_mdfa/*.nc')\n",
    "\n",
    "j=0\n",
    "for i in fileList:\n",
    "    dataset = xr.open_dataset(i)\n",
    "    dataset_mm = dataset * 1000\n",
    "    globals()['temp' + str(j)] = dataset_mm.resample(time='M').sum()\n",
    "    j = j+1\n",
    "\n",
    "#Concat the previously loaded xarray objects. Resulting object is a xarray.DataArray\n",
    "eraint_tp = xr.concat([temp2.tp[:,:,:],temp0.tp[:,:,:],temp3.tp[:,:,:], temp1.tp[:,:,:]], dim='time')"
   ]
  },
  {
   "cell_type": "markdown",
   "metadata": {},
   "source": [
    "#### Open shapefile with geopandas"
   ]
  },
  {
   "cell_type": "code",
   "execution_count": null,
   "metadata": {},
   "outputs": [],
   "source": [
    "gdf = gpd.read_file('./ADM00_extr_mask/ADM00_extr_mask.shp')"
   ]
  },
  {
   "cell_type": "markdown",
   "metadata": {},
   "source": [
    "##### Check the loaded shapefile and plot it"
   ]
  },
  {
   "cell_type": "code",
   "execution_count": null,
   "metadata": {
    "scrolled": true
   },
   "outputs": [],
   "source": [
    "gdf_subset = gdf[gdf['adm0_name'] == 'Japan']\n",
    "gdf_subset.plot(figsize=(10,30))"
   ]
  },
  {
   "cell_type": "markdown",
   "metadata": {},
   "source": [
    "##### Plot the shapefile on top of the xarray - dataarray"
   ]
  },
  {
   "cell_type": "code",
   "execution_count": null,
   "metadata": {
    "scrolled": true
   },
   "outputs": [],
   "source": [
    "ax = gdf.plot(alpha=0.2, color=\"black\")\n",
    "xr_dataset_mm.to_array().isel(number=1, time=1).plot(ax=ax, zorder=-1)"
   ]
  },
  {
   "cell_type": "markdown",
   "metadata": {},
   "source": [
    "### 2. Map the shapefile onto the data objects"
   ]
  },
  {
   "cell_type": "markdown",
   "metadata": {},
   "source": [
    "#### Functions to rasterize a shapefile onto a given xarray object"
   ]
  },
  {
   "cell_type": "code",
   "execution_count": null,
   "metadata": {},
   "outputs": [],
   "source": [
    "#Function provided by Stephan Hoyer\n",
    "from rasterio import features\n",
    "\n",
    "from affine import Affine\n",
    "def transform_from_latlon(lat, lon):\n",
    "    lat = np.asarray(lat)\n",
    "    lon = np.asarray(lon)\n",
    "    trans = Affine.translation(lon[0], lat[0])\n",
    "    scale = Affine.scale(lon[1] - lon[0], lat[1] - lat[0])\n",
    "    return trans * scale\n",
    "\n",
    "def rasterize(shapes, coords, latitude='latitude', longitude='longitude',\n",
    "              fill=np.nan, **kwargs):\n",
    "    \"\"\"Rasterize a list of (geometry, fill_value) tuples onto the given\n",
    "    xray coordinates. This only works for 1d latitude and longitude\n",
    "    arrays.\n",
    "    \"\"\"\n",
    "    transform = transform_from_latlon(coords[latitude], coords[longitude])\n",
    "    out_shape = (len(coords[latitude]), len(coords[longitude]))\n",
    "    #requires the features library from rasterio\n",
    "    raster = features.rasterize(shapes, out_shape=out_shape,\n",
    "                                fill=fill, transform=transform,dtype=float, **kwargs)\n",
    "    spatial_coords = {latitude: coords[latitude], longitude: coords[longitude]}\n",
    "    return xr.DataArray(raster, coords=spatial_coords, dims=(latitude, longitude))"
   ]
  },
  {
   "cell_type": "markdown",
   "metadata": {},
   "source": [
    "#### Helper function get a dictionary of the shapefile's country names and country id's"
   ]
  },
  {
   "cell_type": "code",
   "execution_count": null,
   "metadata": {},
   "outputs": [],
   "source": [
    "world_ids = {k: i for i, k in enumerate(gdf.adm0_name)}\n",
    "world_ids\n",
    "shapes = zip(gdf.geometry, range(len(gdf)))"
   ]
  },
  {
   "cell_type": "markdown",
   "metadata": {},
   "source": [
    "#### Execute the rasterize function on seasonal forecast and ERA-interim data"
   ]
  },
  {
   "cell_type": "code",
   "execution_count": null,
   "metadata": {},
   "outputs": [],
   "source": [
    "%%time\n",
    "# Seasonal forecast data\n",
    "tp_seasonal_ar_mm['countries'] = rasterize(shapes, xr_dataset_mm.coords, longitude='longitude', latitude='latitude')"
   ]
  },
  {
   "cell_type": "code",
   "execution_count": null,
   "metadata": {},
   "outputs": [],
   "source": [
    "%%time\n",
    "#ERAinterim total precipitation - Monthly accumulated means - 1979-2018\n",
    "eraint_tp['countries'] = rasterize(shapes, eraint_tp.coords, longitude='longitude', latitude='latitude')"
   ]
  },
  {
   "cell_type": "code",
   "execution_count": null,
   "metadata": {},
   "outputs": [],
   "source": [
    "%%time\n",
    "#Sessonal forecast anomalies\n",
    "tp_seasonal_anomalies_mm['countries'] = rasterize(shapes, tp_seasonal_anomalies_mm.coords, longitude='longitude', latitude='latitude')"
   ]
  },
  {
   "cell_type": "markdown",
   "metadata": {},
   "source": [
    "#### Select a country and plot the rasterized object"
   ]
  },
  {
   "cell_type": "code",
   "execution_count": null,
   "metadata": {},
   "outputs": [],
   "source": [
    "(eraint_tp.countries == world_ids['Mozambique']).plot(figsize=(50,20))"
   ]
  },
  {
   "cell_type": "markdown",
   "metadata": {},
   "source": [
    "### 3. Compute the climatology for ERA-interim time series and calculate anomalies "
   ]
  },
  {
   "cell_type": "code",
   "execution_count": null,
   "metadata": {},
   "outputs": [],
   "source": [
    "# Select the time from 1981-2010 and calculate the mean of all months\n",
    "climatology_mean_19812010 = eraint_tp[24:384,:,:].groupby('time.month').mean('time')\n",
    "era_int_anomaly = eraint_tp.groupby('time.month') - climatology_mean_19812010"
   ]
  },
  {
   "cell_type": "code",
   "execution_count": null,
   "metadata": {},
   "outputs": [],
   "source": [
    "%%time\n",
    "#ERAinterim anomaly\n",
    "era_int_anomaly['countries'] = rasterize(shapes, era_int_anomaly.coords, longitude='longitude', latitude='latitude')"
   ]
  },
  {
   "cell_type": "markdown",
   "metadata": {},
   "source": [
    "### 4. Compute the mean per country based on the xarray groupby function"
   ]
  },
  {
   "cell_type": "code",
   "execution_count": null,
   "metadata": {},
   "outputs": [],
   "source": [
    "tp_seasonal_countries = tp_seasonal_ar_mm.groupby('countries').mean('stacked_latitude_longitude')"
   ]
  },
  {
   "cell_type": "code",
   "execution_count": null,
   "metadata": {},
   "outputs": [],
   "source": [
    "tp_eraint_countries = eraint_tp.groupby('countries').mean('stacked_latitude_longitude')"
   ]
  },
  {
   "cell_type": "code",
   "execution_count": null,
   "metadata": {},
   "outputs": [],
   "source": [
    "eraint_anomaly_countries = era_int_anomaly.groupby('countries').mean('stacked_latitude_longitude')"
   ]
  },
  {
   "cell_type": "code",
   "execution_count": null,
   "metadata": {},
   "outputs": [],
   "source": [
    "tp_seasonal_anomalies_mm_countries = tp_seasonal_anomalies_mm.groupby('countries').mean('stacked_latitude_longitude')"
   ]
  },
  {
   "cell_type": "markdown",
   "metadata": {},
   "source": [
    "### 5. Create a dataframe with countries that are represented in the final data objects"
   ]
  },
  {
   "cell_type": "markdown",
   "metadata": {},
   "source": [
    "Not all countries are represented, as some countries were too small to rasterized. The initial shapefile has 171 countries and the resulting rasterized object has 151. The resulting dataframe shows the countries that can be represented."
   ]
  },
  {
   "cell_type": "code",
   "execution_count": null,
   "metadata": {
    "scrolled": true
   },
   "outputs": [],
   "source": [
    "countries = list(gdf.adm0_name)\n",
    "countries.append(range(len(countries)))\n",
    "country_id = list(range(0,171))\n",
    "zipped = list(zip(country_id,countries))\n",
    "zipped_df = pd.DataFrame(zipped,columns=['country_id', 'country_name'])\n",
    "\n",
    "countryVals = tp_eraint_countries.countries\n",
    "\n",
    "countries_xr = pd.Series(countryVals).to_frame()\n",
    "countries_xr.columns = ['country_id']\n",
    "countries_df = pd.merge(countries_xr,zipped_df, on='country_id', how='inner')"
   ]
  },
  {
   "cell_type": "markdown",
   "metadata": {},
   "source": [
    "### 6. Visualize ERA-interim precipitation anomalies"
   ]
  },
  {
   "cell_type": "code",
   "execution_count": null,
   "metadata": {},
   "outputs": [],
   "source": [
    "#Plotting function, where positive and negative values are seperated in order to colour them differently in the resulting plot\n",
    "def f(country):\n",
    "    country_id = world_ids.get(country)\n",
    "    eraint_anomaly_country = eraint_anomaly_countries.sel(countries=country_id)\n",
    "    xVals = eraint_anomaly_country.time.to_dataframe()\n",
    "    yVals = eraint_anomaly_country.to_dataframe()\n",
    "    posVals = yVals.where(yVals > 0)\n",
    "    negVals = yVals.where(yVals < 0)\n",
    "    p = figure(plot_width=900, plot_height=500, x_axis_type='datetime', title='Monthly anomalies - Total precipitation 1979-2018', x_axis_label='Month', y_axis_label='mm')\n",
    "    p.vbar(xVals.time, top=negVals.tp, width=100, color='lightsalmon')\n",
    "    p.vbar(xVals.time, top=posVals.tp, width=100, color=\"royalblue\")\n",
    "    p.title_location = 'above'\n",
    "    p.title.text_font_size = '12pt'\n",
    "    p.title.align = 'center'\n",
    "    show(p)\n",
    "\n",
    "select = widgets.Select(\n",
    "    options=list(countries_df.country_name),\n",
    "    value='Mozambique',\n",
    "    description='Country:',\n",
    "    disabled=False\n",
    ")\n",
    "\n",
    "interactive_plot = interactive(f, country=select)\n",
    "interactive_plot"
   ]
  },
  {
   "cell_type": "markdown",
   "metadata": {},
   "source": [
    "### Visualize anomalies including six month seasonal forecasts"
   ]
  },
  {
   "cell_type": "code",
   "execution_count": null,
   "metadata": {
    "scrolled": false
   },
   "outputs": [],
   "source": [
    "from datetime import timedelta\n",
    "\n",
    "def calculateStats(array):\n",
    "    xVals_max = array.groupby('time').max(dim=xr.ALL_DIMS)\n",
    "    xVals_min = array.groupby('time').min(dim=xr.ALL_DIMS)\n",
    "    xVals_mean = array.groupby('time').mean(dim=xr.ALL_DIMS)\n",
    "    quant95 = array.quantile(q=0.95,dim='number').to_dataframe()\n",
    "    quant25 = array.quantile(q=0.25,dim='number').to_dataframe()\n",
    "    \n",
    "    df = pd.DataFrame(data = xVals_min.time.values, columns=['time'])\n",
    "    df['miny'] = xVals_min.tpara.values\n",
    "    df['meany'] = xVals_mean.tpara.values\n",
    "    df['maxy'] = xVals_max.tpara.values\n",
    "    df['quant95'] = quant95.tpara.values\n",
    "    df['quant25'] = quant25.tpara.values\n",
    "\n",
    "    return df\n",
    "\n",
    "def plotData(df, xlist, ylist):\n",
    "    p = figure(plot_width=900, plot_height=700, x_axis_type='datetime', title='Monthly anomalies - Total precipitation - 2018 + 6 month seasonal forecast', x_axis_label='Month', y_axis_label='mm')\n",
    "    p.title.align = 'center'\n",
    "    p.title.text_font_size = '12pt'\n",
    "    p.title_location = 'above'\n",
    "\n",
    "    it1 = p.vbar(x=df.time.values, top=df.erainty_bar.values, width=1000000000, color=\"royalblue\")\n",
    "    it2 = p.line(x=df.time.values, y=df.meany.values, color='mediumblue', line_width=4)\n",
    "    it3 = p.patch(xlist, ylist, alpha=0.3, color='gainsboro')\n",
    "    it4 = p.line(x=df.time.values, y=df.quant25.values, color=\"mediumblue\", line_dash='dashed')\n",
    "    it5 = p.line(x=df.time.values, y=df.quant95.values, color='mediumblue', line_dash='dashed')\n",
    "\n",
    "    p.xgrid.grid_line_dash = 'dashed'\n",
    "    p.ygrid.grid_line_dash = 'dashed'\n",
    "    p.xgrid.grid_line_alpha = 0.5\n",
    "    p.ygrid.grid_line_alpha = 0.5\n",
    "    \n",
    "    legend = Legend(items=[\n",
    "        (\"Anomalies based on 1980-2010 climatology\", [it1]),\n",
    "        (\"Mean of ensemble members\", [it2]),\n",
    "        (\"Ensemble spread - 6 month seasonal forecast\", [it3]),\n",
    "        (\"25th- and 95th percentile\", [it4])\n",
    "    ], location=(515,0))\n",
    "    p.add_layout(legend, 'below')\n",
    "    show(p)\n",
    "\n",
    "def f(country):\n",
    "    country_id = world_ids.get(country)\n",
    "    eraint_country = eraint_anomaly_countries.sel(countries=country_id)\n",
    "    tp_seasonal_country = tp_seasonal_anomalies_mm_countries.sel(countries=country_id)\n",
    "    \n",
    "    seasonal_forecast_stats = calculateStats(tp_seasonal_country)\n",
    "\n",
    "    eraint_xVals = eraint_country.time[468:475].to_dataframe()\n",
    "    eraint_yVals = eraint_country[468:475].to_dataframe()\n",
    "\n",
    "    df_extend = eraint_xVals.append(seasonal_forecast_stats, sort=True)\n",
    "    df_extend['erainty_bar'] = eraint_yVals.reindex(df_extend.time, fill_value=np.nan).tp.values\n",
    "\n",
    "    x_list = [np.nan, np.nan, np.nan, np.nan, np.nan, np.nan, np.nan, df_extend.time[0], df_extend.time[0], df_extend.time[1],df_extend.time[2],df_extend.time[3],df_extend.time[4],df_extend.time[5], df_extend.time[5], df_extend.time[4], df_extend.time[3], df_extend.time[2], df_extend.time[1]]    \n",
    "    y_list = [np.nan, np.nan, np.nan, np.nan, np.nan, np.nan, np.nan, df_extend.miny[0],df_extend.maxy[0],df_extend.maxy[1],df_extend.maxy[2],df_extend.maxy[3],df_extend.maxy[4],df_extend.maxy[5], df_extend.miny[5], df_extend.miny[4], df_extend.miny[3],df_extend.miny[2],df_extend.miny[1]]\n",
    "\n",
    "    plotData(df_extend, x_list, y_list)\n",
    "\n",
    "    \n",
    "select = widgets.Select(\n",
    "\n",
    "    options=list(countries_df.country_name),\n",
    "    value='Mozambique',\n",
    "    description='Country:',\n",
    "    disabled=False\n",
    ")\n",
    "\n",
    "interactive_plot = interactive(f, country=select)\n",
    "interactive_plot"
   ]
  }
 ],
 "metadata": {
  "kernelspec": {
   "display_name": "Python 3",
   "language": "python",
   "name": "python3"
  },
  "language_info": {
   "codemirror_mode": {
    "name": "ipython",
    "version": 3
   },
   "file_extension": ".py",
   "mimetype": "text/x-python",
   "name": "python",
   "nbconvert_exporter": "python",
   "pygments_lexer": "ipython3",
   "version": "3.7.0"
  }
 },
 "nbformat": 4,
 "nbformat_minor": 2
}
